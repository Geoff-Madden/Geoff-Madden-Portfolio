{
 "cells": [
  {
   "cell_type": "markdown",
   "id": "bf59b787",
   "metadata": {},
   "source": [
    "# Cardio Good Fitness"
   ]
  },
  {
   "cell_type": "markdown",
   "id": "eb42c839",
   "metadata": {},
   "source": [
    "### CONTEXT"
   ]
  },
  {
   "cell_type": "markdown",
   "id": "a52335c8",
   "metadata": {},
   "source": [
    "Scenario: \n",
    "The market research team at AdRight is assigned the task to identify the profile of the typical customer for each treadmill \n",
    "product offered by CardioGood Fitness. The market research team decides to investigate whether there are differences across the product lines with respect to customer characteristics. The team decides to collect data on individuals who purchased a treadmill at a CardioGoodFitness retail store in the last three months. The data are stored in the CardioGoodFitness.csv file.\n",
    "The team identifies the following customer variables to study:\n",
    "\n",
    "● product purchased, TM195, TM498, or TM798\n",
    "\n",
    "● gender\n",
    "\n",
    "● age, in years\n",
    "\n",
    "● education, in years\n",
    "\n",
    "● relationship status, single or partnered\n",
    "\n",
    "● annual household income (dollars)\n",
    "\n",
    "● average number of times the customer plans to use the treadmill each week\n",
    "\n",
    "● average number of miles the customer expects to walk/run each week\n",
    "\n",
    "● self-rated fitness on an 1-to-5 scale, where 1 is poor shape and 5 is excellent shape."
   ]
  },
  {
   "cell_type": "markdown",
   "id": "835c8f97",
   "metadata": {},
   "source": [
    "### PROBLEM STATEMENT"
   ]
  },
  {
   "cell_type": "markdown",
   "id": "1f179463",
   "metadata": {},
   "source": [
    "Look for a correlation in the data that can be used for a future promotion"
   ]
  },
  {
   "cell_type": "markdown",
   "id": "3d8dfb15",
   "metadata": {},
   "source": [
    "IMPORT LIBRARIES"
   ]
  },
  {
   "cell_type": "code",
   "execution_count": 1,
   "id": "dee19ba0",
   "metadata": {},
   "outputs": [],
   "source": [
    "import pandas as pd\n",
    "import numpy as np \n",
    "import seaborn as sns\n",
    "import matplotlib.pyplot as plt"
   ]
  },
  {
   "cell_type": "markdown",
   "id": "8773d395",
   "metadata": {},
   "source": [
    "IMPORT DATA"
   ]
  },
  {
   "cell_type": "code",
   "execution_count": 2,
   "id": "53318e71",
   "metadata": {},
   "outputs": [],
   "source": [
    "df = pd.read_csv('CardioGoodFitness.csv')"
   ]
  },
  {
   "cell_type": "markdown",
   "id": "34722757",
   "metadata": {},
   "source": [
    "INSPECT DATA"
   ]
  },
  {
   "cell_type": "code",
   "execution_count": 3,
   "id": "8954aa4c",
   "metadata": {},
   "outputs": [
    {
     "data": {
      "text/html": [
       "<div>\n",
       "<style scoped>\n",
       "    .dataframe tbody tr th:only-of-type {\n",
       "        vertical-align: middle;\n",
       "    }\n",
       "\n",
       "    .dataframe tbody tr th {\n",
       "        vertical-align: top;\n",
       "    }\n",
       "\n",
       "    .dataframe thead th {\n",
       "        text-align: right;\n",
       "    }\n",
       "</style>\n",
       "<table border=\"1\" class=\"dataframe\">\n",
       "  <thead>\n",
       "    <tr style=\"text-align: right;\">\n",
       "      <th></th>\n",
       "      <th>Product</th>\n",
       "      <th>Age</th>\n",
       "      <th>Gender</th>\n",
       "      <th>Education</th>\n",
       "      <th>MaritalStatus</th>\n",
       "      <th>Usage</th>\n",
       "      <th>Fitness</th>\n",
       "      <th>Income</th>\n",
       "      <th>Miles</th>\n",
       "    </tr>\n",
       "  </thead>\n",
       "  <tbody>\n",
       "    <tr>\n",
       "      <th>0</th>\n",
       "      <td>TM195</td>\n",
       "      <td>18</td>\n",
       "      <td>Male</td>\n",
       "      <td>14</td>\n",
       "      <td>Single</td>\n",
       "      <td>3</td>\n",
       "      <td>4</td>\n",
       "      <td>29562</td>\n",
       "      <td>112</td>\n",
       "    </tr>\n",
       "    <tr>\n",
       "      <th>1</th>\n",
       "      <td>TM195</td>\n",
       "      <td>19</td>\n",
       "      <td>Male</td>\n",
       "      <td>15</td>\n",
       "      <td>Single</td>\n",
       "      <td>2</td>\n",
       "      <td>3</td>\n",
       "      <td>31836</td>\n",
       "      <td>75</td>\n",
       "    </tr>\n",
       "    <tr>\n",
       "      <th>2</th>\n",
       "      <td>TM195</td>\n",
       "      <td>19</td>\n",
       "      <td>Female</td>\n",
       "      <td>14</td>\n",
       "      <td>Partnered</td>\n",
       "      <td>4</td>\n",
       "      <td>3</td>\n",
       "      <td>30699</td>\n",
       "      <td>66</td>\n",
       "    </tr>\n",
       "    <tr>\n",
       "      <th>3</th>\n",
       "      <td>TM195</td>\n",
       "      <td>19</td>\n",
       "      <td>Male</td>\n",
       "      <td>12</td>\n",
       "      <td>Single</td>\n",
       "      <td>3</td>\n",
       "      <td>3</td>\n",
       "      <td>32973</td>\n",
       "      <td>85</td>\n",
       "    </tr>\n",
       "    <tr>\n",
       "      <th>4</th>\n",
       "      <td>TM195</td>\n",
       "      <td>20</td>\n",
       "      <td>Male</td>\n",
       "      <td>13</td>\n",
       "      <td>Partnered</td>\n",
       "      <td>4</td>\n",
       "      <td>2</td>\n",
       "      <td>35247</td>\n",
       "      <td>47</td>\n",
       "    </tr>\n",
       "  </tbody>\n",
       "</table>\n",
       "</div>"
      ],
      "text/plain": [
       "  Product  Age  Gender  Education MaritalStatus  Usage  Fitness  Income  Miles\n",
       "0   TM195   18    Male         14        Single      3        4   29562    112\n",
       "1   TM195   19    Male         15        Single      2        3   31836     75\n",
       "2   TM195   19  Female         14     Partnered      4        3   30699     66\n",
       "3   TM195   19    Male         12        Single      3        3   32973     85\n",
       "4   TM195   20    Male         13     Partnered      4        2   35247     47"
      ]
     },
     "execution_count": 3,
     "metadata": {},
     "output_type": "execute_result"
    }
   ],
   "source": [
    "df.head()"
   ]
  },
  {
   "cell_type": "code",
   "execution_count": 4,
   "id": "b2b52973",
   "metadata": {},
   "outputs": [
    {
     "name": "stdout",
     "output_type": "stream",
     "text": [
      "<class 'pandas.core.frame.DataFrame'>\n",
      "RangeIndex: 180 entries, 0 to 179\n",
      "Data columns (total 9 columns):\n",
      " #   Column         Non-Null Count  Dtype \n",
      "---  ------         --------------  ----- \n",
      " 0   Product        180 non-null    object\n",
      " 1   Age            180 non-null    int64 \n",
      " 2   Gender         180 non-null    object\n",
      " 3   Education      180 non-null    int64 \n",
      " 4   MaritalStatus  180 non-null    object\n",
      " 5   Usage          180 non-null    int64 \n",
      " 6   Fitness        180 non-null    int64 \n",
      " 7   Income         180 non-null    int64 \n",
      " 8   Miles          180 non-null    int64 \n",
      "dtypes: int64(6), object(3)\n",
      "memory usage: 12.8+ KB\n"
     ]
    }
   ],
   "source": [
    "df.info()"
   ]
  },
  {
   "cell_type": "markdown",
   "id": "e261e69e",
   "metadata": {},
   "source": [
    "The data appears to be complete with no obvious cleaning required at this stage.\n",
    "\n",
    "We can look at the correlation for all the data and create a heat map."
   ]
  },
  {
   "cell_type": "markdown",
   "id": "5e62dfad",
   "metadata": {},
   "source": [
    "We will change Gender and Marital Status for numerical data."
   ]
  },
  {
   "cell_type": "code",
   "execution_count": 5,
   "id": "649b7a9e",
   "metadata": {},
   "outputs": [
    {
     "data": {
      "text/html": [
       "<div>\n",
       "<style scoped>\n",
       "    .dataframe tbody tr th:only-of-type {\n",
       "        vertical-align: middle;\n",
       "    }\n",
       "\n",
       "    .dataframe tbody tr th {\n",
       "        vertical-align: top;\n",
       "    }\n",
       "\n",
       "    .dataframe thead th {\n",
       "        text-align: right;\n",
       "    }\n",
       "</style>\n",
       "<table border=\"1\" class=\"dataframe\">\n",
       "  <thead>\n",
       "    <tr style=\"text-align: right;\">\n",
       "      <th></th>\n",
       "      <th>Product</th>\n",
       "      <th>Age</th>\n",
       "      <th>Gender</th>\n",
       "      <th>Education</th>\n",
       "      <th>MaritalStatus</th>\n",
       "      <th>Usage</th>\n",
       "      <th>Fitness</th>\n",
       "      <th>Income</th>\n",
       "      <th>Miles</th>\n",
       "    </tr>\n",
       "  </thead>\n",
       "  <tbody>\n",
       "    <tr>\n",
       "      <th>0</th>\n",
       "      <td>TM195</td>\n",
       "      <td>18</td>\n",
       "      <td>1</td>\n",
       "      <td>14</td>\n",
       "      <td>1</td>\n",
       "      <td>3</td>\n",
       "      <td>4</td>\n",
       "      <td>29562</td>\n",
       "      <td>112</td>\n",
       "    </tr>\n",
       "    <tr>\n",
       "      <th>1</th>\n",
       "      <td>TM195</td>\n",
       "      <td>19</td>\n",
       "      <td>1</td>\n",
       "      <td>15</td>\n",
       "      <td>1</td>\n",
       "      <td>2</td>\n",
       "      <td>3</td>\n",
       "      <td>31836</td>\n",
       "      <td>75</td>\n",
       "    </tr>\n",
       "    <tr>\n",
       "      <th>2</th>\n",
       "      <td>TM195</td>\n",
       "      <td>19</td>\n",
       "      <td>0</td>\n",
       "      <td>14</td>\n",
       "      <td>2</td>\n",
       "      <td>4</td>\n",
       "      <td>3</td>\n",
       "      <td>30699</td>\n",
       "      <td>66</td>\n",
       "    </tr>\n",
       "    <tr>\n",
       "      <th>3</th>\n",
       "      <td>TM195</td>\n",
       "      <td>19</td>\n",
       "      <td>1</td>\n",
       "      <td>12</td>\n",
       "      <td>1</td>\n",
       "      <td>3</td>\n",
       "      <td>3</td>\n",
       "      <td>32973</td>\n",
       "      <td>85</td>\n",
       "    </tr>\n",
       "    <tr>\n",
       "      <th>4</th>\n",
       "      <td>TM195</td>\n",
       "      <td>20</td>\n",
       "      <td>1</td>\n",
       "      <td>13</td>\n",
       "      <td>2</td>\n",
       "      <td>4</td>\n",
       "      <td>2</td>\n",
       "      <td>35247</td>\n",
       "      <td>47</td>\n",
       "    </tr>\n",
       "  </tbody>\n",
       "</table>\n",
       "</div>"
      ],
      "text/plain": [
       "  Product  Age  Gender  Education  MaritalStatus  Usage  Fitness  Income  \\\n",
       "0   TM195   18       1         14              1      3        4   29562   \n",
       "1   TM195   19       1         15              1      2        3   31836   \n",
       "2   TM195   19       0         14              2      4        3   30699   \n",
       "3   TM195   19       1         12              1      3        3   32973   \n",
       "4   TM195   20       1         13              2      4        2   35247   \n",
       "\n",
       "   Miles  \n",
       "0    112  \n",
       "1     75  \n",
       "2     66  \n",
       "3     85  \n",
       "4     47  "
      ]
     },
     "execution_count": 5,
     "metadata": {},
     "output_type": "execute_result"
    }
   ],
   "source": [
    "gender_map = {'Male': 1, 'Female': 0}\n",
    "marital_status_map = {'Single': 1, 'Partnered': 2}\n",
    "df['Gender'] = df['Gender'].replace(gender_map)\n",
    "df['MaritalStatus'] = df['MaritalStatus'].replace(marital_status_map) \n",
    "df.head()"
   ]
  },
  {
   "cell_type": "code",
   "execution_count": 6,
   "id": "21d03e9e",
   "metadata": {},
   "outputs": [
    {
     "name": "stderr",
     "output_type": "stream",
     "text": [
      "C:\\Users\\geoff\\AppData\\Local\\Temp\\ipykernel_26724\\1134722465.py:1: FutureWarning: The default value of numeric_only in DataFrame.corr is deprecated. In a future version, it will default to False. Select only valid columns or specify the value of numeric_only to silence this warning.\n",
      "  df.corr()\n"
     ]
    },
    {
     "data": {
      "text/html": [
       "<div>\n",
       "<style scoped>\n",
       "    .dataframe tbody tr th:only-of-type {\n",
       "        vertical-align: middle;\n",
       "    }\n",
       "\n",
       "    .dataframe tbody tr th {\n",
       "        vertical-align: top;\n",
       "    }\n",
       "\n",
       "    .dataframe thead th {\n",
       "        text-align: right;\n",
       "    }\n",
       "</style>\n",
       "<table border=\"1\" class=\"dataframe\">\n",
       "  <thead>\n",
       "    <tr style=\"text-align: right;\">\n",
       "      <th></th>\n",
       "      <th>Age</th>\n",
       "      <th>Gender</th>\n",
       "      <th>Education</th>\n",
       "      <th>MaritalStatus</th>\n",
       "      <th>Usage</th>\n",
       "      <th>Fitness</th>\n",
       "      <th>Income</th>\n",
       "      <th>Miles</th>\n",
       "    </tr>\n",
       "  </thead>\n",
       "  <tbody>\n",
       "    <tr>\n",
       "      <th>Age</th>\n",
       "      <td>1.000000</td>\n",
       "      <td>0.027544</td>\n",
       "      <td>0.280496</td>\n",
       "      <td>0.192152</td>\n",
       "      <td>0.015064</td>\n",
       "      <td>0.061105</td>\n",
       "      <td>0.513414</td>\n",
       "      <td>0.036618</td>\n",
       "    </tr>\n",
       "    <tr>\n",
       "      <th>Gender</th>\n",
       "      <td>0.027544</td>\n",
       "      <td>1.000000</td>\n",
       "      <td>0.094089</td>\n",
       "      <td>-0.018836</td>\n",
       "      <td>0.214424</td>\n",
       "      <td>0.254609</td>\n",
       "      <td>0.202053</td>\n",
       "      <td>0.217869</td>\n",
       "    </tr>\n",
       "    <tr>\n",
       "      <th>Education</th>\n",
       "      <td>0.280496</td>\n",
       "      <td>0.094089</td>\n",
       "      <td>1.000000</td>\n",
       "      <td>0.068569</td>\n",
       "      <td>0.395155</td>\n",
       "      <td>0.410581</td>\n",
       "      <td>0.625827</td>\n",
       "      <td>0.307284</td>\n",
       "    </tr>\n",
       "    <tr>\n",
       "      <th>MaritalStatus</th>\n",
       "      <td>0.192152</td>\n",
       "      <td>-0.018836</td>\n",
       "      <td>0.068569</td>\n",
       "      <td>1.000000</td>\n",
       "      <td>-0.007786</td>\n",
       "      <td>-0.050751</td>\n",
       "      <td>0.150293</td>\n",
       "      <td>0.025639</td>\n",
       "    </tr>\n",
       "    <tr>\n",
       "      <th>Usage</th>\n",
       "      <td>0.015064</td>\n",
       "      <td>0.214424</td>\n",
       "      <td>0.395155</td>\n",
       "      <td>-0.007786</td>\n",
       "      <td>1.000000</td>\n",
       "      <td>0.668606</td>\n",
       "      <td>0.519537</td>\n",
       "      <td>0.759130</td>\n",
       "    </tr>\n",
       "    <tr>\n",
       "      <th>Fitness</th>\n",
       "      <td>0.061105</td>\n",
       "      <td>0.254609</td>\n",
       "      <td>0.410581</td>\n",
       "      <td>-0.050751</td>\n",
       "      <td>0.668606</td>\n",
       "      <td>1.000000</td>\n",
       "      <td>0.535005</td>\n",
       "      <td>0.785702</td>\n",
       "    </tr>\n",
       "    <tr>\n",
       "      <th>Income</th>\n",
       "      <td>0.513414</td>\n",
       "      <td>0.202053</td>\n",
       "      <td>0.625827</td>\n",
       "      <td>0.150293</td>\n",
       "      <td>0.519537</td>\n",
       "      <td>0.535005</td>\n",
       "      <td>1.000000</td>\n",
       "      <td>0.543473</td>\n",
       "    </tr>\n",
       "    <tr>\n",
       "      <th>Miles</th>\n",
       "      <td>0.036618</td>\n",
       "      <td>0.217869</td>\n",
       "      <td>0.307284</td>\n",
       "      <td>0.025639</td>\n",
       "      <td>0.759130</td>\n",
       "      <td>0.785702</td>\n",
       "      <td>0.543473</td>\n",
       "      <td>1.000000</td>\n",
       "    </tr>\n",
       "  </tbody>\n",
       "</table>\n",
       "</div>"
      ],
      "text/plain": [
       "                    Age    Gender  Education  MaritalStatus     Usage  \\\n",
       "Age            1.000000  0.027544   0.280496       0.192152  0.015064   \n",
       "Gender         0.027544  1.000000   0.094089      -0.018836  0.214424   \n",
       "Education      0.280496  0.094089   1.000000       0.068569  0.395155   \n",
       "MaritalStatus  0.192152 -0.018836   0.068569       1.000000 -0.007786   \n",
       "Usage          0.015064  0.214424   0.395155      -0.007786  1.000000   \n",
       "Fitness        0.061105  0.254609   0.410581      -0.050751  0.668606   \n",
       "Income         0.513414  0.202053   0.625827       0.150293  0.519537   \n",
       "Miles          0.036618  0.217869   0.307284       0.025639  0.759130   \n",
       "\n",
       "                Fitness    Income     Miles  \n",
       "Age            0.061105  0.513414  0.036618  \n",
       "Gender         0.254609  0.202053  0.217869  \n",
       "Education      0.410581  0.625827  0.307284  \n",
       "MaritalStatus -0.050751  0.150293  0.025639  \n",
       "Usage          0.668606  0.519537  0.759130  \n",
       "Fitness        1.000000  0.535005  0.785702  \n",
       "Income         0.535005  1.000000  0.543473  \n",
       "Miles          0.785702  0.543473  1.000000  "
      ]
     },
     "execution_count": 6,
     "metadata": {},
     "output_type": "execute_result"
    }
   ],
   "source": [
    "df.corr()"
   ]
  },
  {
   "cell_type": "code",
   "execution_count": 7,
   "id": "2b896b3f",
   "metadata": {},
   "outputs": [
    {
     "name": "stderr",
     "output_type": "stream",
     "text": [
      "C:\\Users\\geoff\\AppData\\Local\\Temp\\ipykernel_26724\\1308868159.py:1: FutureWarning: The default value of numeric_only in DataFrame.corr is deprecated. In a future version, it will default to False. Select only valid columns or specify the value of numeric_only to silence this warning.\n",
      "  correlation_matrix = df.corr()\n"
     ]
    },
    {
     "data": {
      "image/png": "[encoded data removed]",
      "text/plain": [
       "<Figure size 640x480 with 2 Axes>"
      ]
     },
     "metadata": {},
     "output_type": "display_data"
    }
   ],
   "source": [
    "correlation_matrix = df.corr()\n",
    "sns.set(font_scale=1.0)\n",
    "sns.heatmap(correlation_matrix, cmap='YlGnBu', annot=True, annot_kws={'size': 10} )\n",
    "plt.title(\"Correlation Heatmap\")\n",
    "plt.show()"
   ]
  },
  {
   "cell_type": "markdown",
   "id": "ae1134b4",
   "metadata": {},
   "source": [
    "There is a significant correlation between Fitness, Usage and Miles.\n",
    "\n",
    "Fitness and Miles is 0.79\n",
    "\n",
    "Usage and Miles is 0.76\n",
    "\n",
    "Fitness and Usage is 0.69"
   ]
  },
  {
   "cell_type": "markdown",
   "id": "71d8db0f",
   "metadata": {},
   "source": [
    "### QUESTION"
   ]
  },
  {
   "cell_type": "markdown",
   "id": "8385def6",
   "metadata": {},
   "source": [
    "How do these statements impact on the choice of treadmill?"
   ]
  },
  {
   "cell_type": "markdown",
   "id": "9fd2a72d",
   "metadata": {},
   "source": [
    "### VISUALISATIONS"
   ]
  },
  {
   "cell_type": "markdown",
   "id": "ad562c3f",
   "metadata": {},
   "source": [
    "We need to compare the data seperately for each treadmill"
   ]
  },
  {
   "cell_type": "markdown",
   "id": "7be31b16",
   "metadata": {},
   "source": [
    "We should examine Usage, Fitness, Income and Miles for each treadmill."
   ]
  },
  {
   "cell_type": "code",
   "execution_count": 9,
   "id": "cd0fcad8",
   "metadata": {},
   "outputs": [
    {
     "data": {
      "image/png": "[encoded data removed]",
      "text/plain": [
       "<Figure size 800x300 with 1 Axes>"
      ]
     },
     "metadata": {},
     "output_type": "display_data"
    }
   ],
   "source": [
    "plt.figure(figsize=(8, 3))\n",
    "sns.boxplot(x='Product', y='Usage', data=df)\n",
    "plt.xlabel('Products')\n",
    "plt.ylabel('Usage')\n",
    "plt.title('Usage Comparison for Each Treadmill')\n",
    "plt.show()"
   ]
  },
  {
   "cell_type": "code",
   "execution_count": 10,
   "id": "15dcc622",
   "metadata": {},
   "outputs": [
    {
     "data": {
      "image/png": "[encoded data removed]",
      "text/plain": [
       "<Figure size 800x300 with 1 Axes>"
      ]
     },
     "metadata": {},
     "output_type": "display_data"
    }
   ],
   "source": [
    "plt.figure(figsize=(8, 3))\n",
    "sns.boxplot(x='Product', y='Income', data=df)\n",
    "plt.xlabel('Products')\n",
    "plt.ylabel('Income ($)')\n",
    "plt.title('Income of Users for Each Treadmill')\n",
    "plt.show()"
   ]
  },
  {
   "cell_type": "code",
   "execution_count": 11,
   "id": "abf03112",
   "metadata": {},
   "outputs": [
    {
     "data": {
      "image/png": "[encoded data removed]",
      "text/plain": [
       "<Figure size 800x300 with 1 Axes>"
      ]
     },
     "metadata": {},
     "output_type": "display_data"
    }
   ],
   "source": [
    "plt.figure(figsize=(8, 3))\n",
    "sns.boxplot(x='Product', y='Fitness', data=df)\n",
    "plt.xlabel('Products')\n",
    "plt.ylabel('Fitness')\n",
    "plt.title('User defined Fitness for each Treadmill')\n",
    "plt.show()"
   ]
  },
  {
   "cell_type": "code",
   "execution_count": 12,
   "id": "03859cb1",
   "metadata": {},
   "outputs": [
    {
     "data": {
      "image/png": "[encoded data removed]",
      "text/plain": [
       "<Figure size 800x300 with 1 Axes>"
      ]
     },
     "metadata": {},
     "output_type": "display_data"
    }
   ],
   "source": [
    "plt.figure(figsize=(8, 3))\n",
    "sns.boxplot(x='Product', y='Miles', data=df)\n",
    "plt.xlabel('Products')\n",
    "plt.ylabel('Miles')\n",
    "plt.title('Target Miles for Each Treadmill')\n",
    "plt.show()"
   ]
  },
  {
   "cell_type": "markdown",
   "id": "4b23adb8",
   "metadata": {},
   "source": [
    "### OBSERVATIONS"
   ]
  },
  {
   "cell_type": "markdown",
   "id": "45d78343",
   "metadata": {},
   "source": [
    "TM798 is used more than the other two treadmills.\n",
    "\n",
    "Users of TM798 tend to have higher incomes than the users of the other two treadmills.\n",
    "\n",
    "The majority of the users of TM798 consider themselves to be fit.\n",
    "\n",
    "Users of TM798 run significantly more miles than the users of the other treadmills."
   ]
  },
  {
   "cell_type": "markdown",
   "id": "fe0ffc8c",
   "metadata": {},
   "source": [
    "### Conclusions"
   ]
  },
  {
   "cell_type": "markdown",
   "id": "532abb77",
   "metadata": {},
   "source": [
    "Product TM798 should be marketed at ultra athletes as a professional choice of treadmill."
   ]
  }
 ],
 "metadata": {
  "kernelspec": {
   "display_name": "Python 3 (ipykernel)",
   "language": "python",
   "name": "python3"
  },
  "language_info": {
   "codemirror_mode": {
    "name": "ipython",
    "version": 3
   },
   "file_extension": ".py",
   "mimetype": "text/x-python",
   "name": "python",
   "nbconvert_exporter": "python",
   "pygments_lexer": "ipython3",
   "version": "3.11.5"
  }
 },
 "nbformat": 4,
 "nbformat_minor": 5
}
